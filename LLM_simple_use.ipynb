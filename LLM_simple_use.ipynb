{
  "nbformat": 4,
  "nbformat_minor": 0,
  "metadata": {
    "colab": {
      "provenance": [],
      "include_colab_link": true
    },
    "kernelspec": {
      "name": "python3",
      "display_name": "Python 3"
    },
    "language_info": {
      "name": "python"
    }
  },
  "cells": [
    {
      "cell_type": "markdown",
      "metadata": {
        "id": "view-in-github",
        "colab_type": "text"
      },
      "source": [
        "<a href=\"https://colab.research.google.com/github/AdityaKhatavkar/NLP-Revision/blob/main/LLM_simple_use.ipynb\" target=\"_parent\"><img src=\"https://colab.research.google.com/assets/colab-badge.svg\" alt=\"Open In Colab\"/></a>"
      ]
    },
    {
      "cell_type": "markdown",
      "source": [
        "# Simple use of LLM"
      ],
      "metadata": {
        "id": "3UYNDe7kUgBp"
      }
    },
    {
      "cell_type": "markdown",
      "source": [
        "langchain-groq is a Python package that integrates the Groq LLM with the LangChain framework.\n",
        "\n",
        "In simpler terms:\n",
        "\n",
        "* LangChain is a powerful library for building applications with large language models (LLMs). It provides tools to connect LLMs with other sources of information (like databases, APIs), chain together multiple LLM calls, and build more complex applications.\n",
        "* Groq offers high-performance inference for LLMs.\n",
        "\n",
        "By combining LangChain and Groq:\n",
        "\n",
        "* Developers can leverage the power of Groq's fast and efficient LLM inference to build more performant and cost-effective LangChain applications.\n",
        "* This integration enables developers to seamlessly incorporate Groq's hardware acceleration into their existing LangChain workflows."
      ],
      "metadata": {
        "id": "dZNlzuRwVYOB"
      }
    },
    {
      "cell_type": "code",
      "source": [
        "pip install langchain-groq"
      ],
      "metadata": {
        "colab": {
          "base_uri": "https://localhost:8080/"
        },
        "collapsed": true,
        "id": "MbjIxmRPQKkd",
        "outputId": "2fb280ba-bf7a-4bab-d6c6-ae3b1b1d7720"
      },
      "execution_count": 1,
      "outputs": [
        {
          "output_type": "stream",
          "name": "stdout",
          "text": [
            "Collecting langchain-groq\n",
            "  Downloading langchain_groq-0.2.2-py3-none-any.whl.metadata (3.0 kB)\n",
            "Collecting groq<1,>=0.4.1 (from langchain-groq)\n",
            "  Downloading groq-0.13.1-py3-none-any.whl.metadata (14 kB)\n",
            "Collecting langchain-core<0.4.0,>=0.3.27 (from langchain-groq)\n",
            "  Downloading langchain_core-0.3.29-py3-none-any.whl.metadata (6.3 kB)\n",
            "Requirement already satisfied: anyio<5,>=3.5.0 in /usr/local/lib/python3.10/dist-packages (from groq<1,>=0.4.1->langchain-groq) (3.7.1)\n",
            "Requirement already satisfied: distro<2,>=1.7.0 in /usr/local/lib/python3.10/dist-packages (from groq<1,>=0.4.1->langchain-groq) (1.9.0)\n",
            "Requirement already satisfied: httpx<1,>=0.23.0 in /usr/local/lib/python3.10/dist-packages (from groq<1,>=0.4.1->langchain-groq) (0.28.1)\n",
            "Requirement already satisfied: pydantic<3,>=1.9.0 in /usr/local/lib/python3.10/dist-packages (from groq<1,>=0.4.1->langchain-groq) (2.10.3)\n",
            "Requirement already satisfied: sniffio in /usr/local/lib/python3.10/dist-packages (from groq<1,>=0.4.1->langchain-groq) (1.3.1)\n",
            "Requirement already satisfied: typing-extensions<5,>=4.10 in /usr/local/lib/python3.10/dist-packages (from groq<1,>=0.4.1->langchain-groq) (4.12.2)\n",
            "Requirement already satisfied: PyYAML>=5.3 in /usr/local/lib/python3.10/dist-packages (from langchain-core<0.4.0,>=0.3.27->langchain-groq) (6.0.2)\n",
            "Requirement already satisfied: jsonpatch<2.0,>=1.33 in /usr/local/lib/python3.10/dist-packages (from langchain-core<0.4.0,>=0.3.27->langchain-groq) (1.33)\n",
            "Requirement already satisfied: langsmith<0.3,>=0.1.125 in /usr/local/lib/python3.10/dist-packages (from langchain-core<0.4.0,>=0.3.27->langchain-groq) (0.2.3)\n",
            "Requirement already satisfied: packaging<25,>=23.2 in /usr/local/lib/python3.10/dist-packages (from langchain-core<0.4.0,>=0.3.27->langchain-groq) (24.2)\n",
            "Requirement already satisfied: tenacity!=8.4.0,<10.0.0,>=8.1.0 in /usr/local/lib/python3.10/dist-packages (from langchain-core<0.4.0,>=0.3.27->langchain-groq) (9.0.0)\n",
            "Requirement already satisfied: idna>=2.8 in /usr/local/lib/python3.10/dist-packages (from anyio<5,>=3.5.0->groq<1,>=0.4.1->langchain-groq) (3.10)\n",
            "Requirement already satisfied: exceptiongroup in /usr/local/lib/python3.10/dist-packages (from anyio<5,>=3.5.0->groq<1,>=0.4.1->langchain-groq) (1.2.2)\n",
            "Requirement already satisfied: certifi in /usr/local/lib/python3.10/dist-packages (from httpx<1,>=0.23.0->groq<1,>=0.4.1->langchain-groq) (2024.12.14)\n",
            "Requirement already satisfied: httpcore==1.* in /usr/local/lib/python3.10/dist-packages (from httpx<1,>=0.23.0->groq<1,>=0.4.1->langchain-groq) (1.0.7)\n",
            "Requirement already satisfied: h11<0.15,>=0.13 in /usr/local/lib/python3.10/dist-packages (from httpcore==1.*->httpx<1,>=0.23.0->groq<1,>=0.4.1->langchain-groq) (0.14.0)\n",
            "Requirement already satisfied: jsonpointer>=1.9 in /usr/local/lib/python3.10/dist-packages (from jsonpatch<2.0,>=1.33->langchain-core<0.4.0,>=0.3.27->langchain-groq) (3.0.0)\n",
            "Requirement already satisfied: orjson<4.0.0,>=3.9.14 in /usr/local/lib/python3.10/dist-packages (from langsmith<0.3,>=0.1.125->langchain-core<0.4.0,>=0.3.27->langchain-groq) (3.10.12)\n",
            "Requirement already satisfied: requests<3,>=2 in /usr/local/lib/python3.10/dist-packages (from langsmith<0.3,>=0.1.125->langchain-core<0.4.0,>=0.3.27->langchain-groq) (2.32.3)\n",
            "Requirement already satisfied: requests-toolbelt<2.0.0,>=1.0.0 in /usr/local/lib/python3.10/dist-packages (from langsmith<0.3,>=0.1.125->langchain-core<0.4.0,>=0.3.27->langchain-groq) (1.0.0)\n",
            "Requirement already satisfied: annotated-types>=0.6.0 in /usr/local/lib/python3.10/dist-packages (from pydantic<3,>=1.9.0->groq<1,>=0.4.1->langchain-groq) (0.7.0)\n",
            "Requirement already satisfied: pydantic-core==2.27.1 in /usr/local/lib/python3.10/dist-packages (from pydantic<3,>=1.9.0->groq<1,>=0.4.1->langchain-groq) (2.27.1)\n",
            "Requirement already satisfied: charset-normalizer<4,>=2 in /usr/local/lib/python3.10/dist-packages (from requests<3,>=2->langsmith<0.3,>=0.1.125->langchain-core<0.4.0,>=0.3.27->langchain-groq) (3.4.0)\n",
            "Requirement already satisfied: urllib3<3,>=1.21.1 in /usr/local/lib/python3.10/dist-packages (from requests<3,>=2->langsmith<0.3,>=0.1.125->langchain-core<0.4.0,>=0.3.27->langchain-groq) (2.2.3)\n",
            "Downloading langchain_groq-0.2.2-py3-none-any.whl (14 kB)\n",
            "Downloading groq-0.13.1-py3-none-any.whl (109 kB)\n",
            "\u001b[2K   \u001b[90m━━━━━━━━━━━━━━━━━━━━━━━━━━━━━━━━━━━━━━━━\u001b[0m \u001b[32m109.1/109.1 kB\u001b[0m \u001b[31m2.2 MB/s\u001b[0m eta \u001b[36m0:00:00\u001b[0m\n",
            "\u001b[?25hDownloading langchain_core-0.3.29-py3-none-any.whl (411 kB)\n",
            "\u001b[2K   \u001b[90m━━━━━━━━━━━━━━━━━━━━━━━━━━━━━━━━━━━━━━━━\u001b[0m \u001b[32m411.6/411.6 kB\u001b[0m \u001b[31m8.6 MB/s\u001b[0m eta \u001b[36m0:00:00\u001b[0m\n",
            "\u001b[?25hInstalling collected packages: groq, langchain-core, langchain-groq\n",
            "  Attempting uninstall: langchain-core\n",
            "    Found existing installation: langchain-core 0.3.25\n",
            "    Uninstalling langchain-core-0.3.25:\n",
            "      Successfully uninstalled langchain-core-0.3.25\n",
            "Successfully installed groq-0.13.1 langchain-core-0.3.29 langchain-groq-0.2.2\n"
          ]
        }
      ]
    },
    {
      "cell_type": "code",
      "source": [
        "pip install langchain-core"
      ],
      "metadata": {
        "colab": {
          "base_uri": "https://localhost:8080/"
        },
        "collapsed": true,
        "id": "twGeufUGScMJ",
        "outputId": "fb484eb9-7db6-4a4e-a1bd-59c6ecce4756"
      },
      "execution_count": 2,
      "outputs": [
        {
          "output_type": "stream",
          "name": "stdout",
          "text": [
            "Requirement already satisfied: langchain-core in /usr/local/lib/python3.10/dist-packages (0.3.29)\n",
            "Requirement already satisfied: PyYAML>=5.3 in /usr/local/lib/python3.10/dist-packages (from langchain-core) (6.0.2)\n",
            "Requirement already satisfied: jsonpatch<2.0,>=1.33 in /usr/local/lib/python3.10/dist-packages (from langchain-core) (1.33)\n",
            "Requirement already satisfied: langsmith<0.3,>=0.1.125 in /usr/local/lib/python3.10/dist-packages (from langchain-core) (0.2.3)\n",
            "Requirement already satisfied: packaging<25,>=23.2 in /usr/local/lib/python3.10/dist-packages (from langchain-core) (24.2)\n",
            "Requirement already satisfied: pydantic<3.0.0,>=2.5.2 in /usr/local/lib/python3.10/dist-packages (from langchain-core) (2.10.3)\n",
            "Requirement already satisfied: tenacity!=8.4.0,<10.0.0,>=8.1.0 in /usr/local/lib/python3.10/dist-packages (from langchain-core) (9.0.0)\n",
            "Requirement already satisfied: typing-extensions>=4.7 in /usr/local/lib/python3.10/dist-packages (from langchain-core) (4.12.2)\n",
            "Requirement already satisfied: jsonpointer>=1.9 in /usr/local/lib/python3.10/dist-packages (from jsonpatch<2.0,>=1.33->langchain-core) (3.0.0)\n",
            "Requirement already satisfied: httpx<1,>=0.23.0 in /usr/local/lib/python3.10/dist-packages (from langsmith<0.3,>=0.1.125->langchain-core) (0.28.1)\n",
            "Requirement already satisfied: orjson<4.0.0,>=3.9.14 in /usr/local/lib/python3.10/dist-packages (from langsmith<0.3,>=0.1.125->langchain-core) (3.10.12)\n",
            "Requirement already satisfied: requests<3,>=2 in /usr/local/lib/python3.10/dist-packages (from langsmith<0.3,>=0.1.125->langchain-core) (2.32.3)\n",
            "Requirement already satisfied: requests-toolbelt<2.0.0,>=1.0.0 in /usr/local/lib/python3.10/dist-packages (from langsmith<0.3,>=0.1.125->langchain-core) (1.0.0)\n",
            "Requirement already satisfied: annotated-types>=0.6.0 in /usr/local/lib/python3.10/dist-packages (from pydantic<3.0.0,>=2.5.2->langchain-core) (0.7.0)\n",
            "Requirement already satisfied: pydantic-core==2.27.1 in /usr/local/lib/python3.10/dist-packages (from pydantic<3.0.0,>=2.5.2->langchain-core) (2.27.1)\n",
            "Requirement already satisfied: anyio in /usr/local/lib/python3.10/dist-packages (from httpx<1,>=0.23.0->langsmith<0.3,>=0.1.125->langchain-core) (3.7.1)\n",
            "Requirement already satisfied: certifi in /usr/local/lib/python3.10/dist-packages (from httpx<1,>=0.23.0->langsmith<0.3,>=0.1.125->langchain-core) (2024.12.14)\n",
            "Requirement already satisfied: httpcore==1.* in /usr/local/lib/python3.10/dist-packages (from httpx<1,>=0.23.0->langsmith<0.3,>=0.1.125->langchain-core) (1.0.7)\n",
            "Requirement already satisfied: idna in /usr/local/lib/python3.10/dist-packages (from httpx<1,>=0.23.0->langsmith<0.3,>=0.1.125->langchain-core) (3.10)\n",
            "Requirement already satisfied: h11<0.15,>=0.13 in /usr/local/lib/python3.10/dist-packages (from httpcore==1.*->httpx<1,>=0.23.0->langsmith<0.3,>=0.1.125->langchain-core) (0.14.0)\n",
            "Requirement already satisfied: charset-normalizer<4,>=2 in /usr/local/lib/python3.10/dist-packages (from requests<3,>=2->langsmith<0.3,>=0.1.125->langchain-core) (3.4.0)\n",
            "Requirement already satisfied: urllib3<3,>=1.21.1 in /usr/local/lib/python3.10/dist-packages (from requests<3,>=2->langsmith<0.3,>=0.1.125->langchain-core) (2.2.3)\n",
            "Requirement already satisfied: sniffio>=1.1 in /usr/local/lib/python3.10/dist-packages (from anyio->httpx<1,>=0.23.0->langsmith<0.3,>=0.1.125->langchain-core) (1.3.1)\n",
            "Requirement already satisfied: exceptiongroup in /usr/local/lib/python3.10/dist-packages (from anyio->httpx<1,>=0.23.0->langsmith<0.3,>=0.1.125->langchain-core) (1.2.2)\n"
          ]
        }
      ]
    },
    {
      "cell_type": "markdown",
      "source": [
        "**Generate API Keys**:\n",
        "\n",
        "* Groq: https://console.groq.com/keys\n"
      ],
      "metadata": {
        "id": "zLOAPtBrY7PU"
      }
    },
    {
      "cell_type": "code",
      "source": [
        "from google.colab import userdata\n",
        "import os\n",
        "os.environ[\"GROQ_API_KEY\"] =userdata.get('GROQ_API_KEY')"
      ],
      "metadata": {
        "id": "oncXjkVgPjah"
      },
      "execution_count": 3,
      "outputs": []
    },
    {
      "cell_type": "code",
      "source": [
        "from langchain_groq import ChatGroq\n",
        "\n",
        "llm = ChatGroq(model=\"mixtral-8x7b-32768\")"
      ],
      "metadata": {
        "id": "YI5xr70vQiDn"
      },
      "execution_count": 4,
      "outputs": []
    },
    {
      "cell_type": "code",
      "source": [
        "output=llm.invoke(\"Tell me about Border Gavaskar Trophy\")"
      ],
      "metadata": {
        "id": "t69pZ5DpQnsP"
      },
      "execution_count": 10,
      "outputs": []
    },
    {
      "cell_type": "code",
      "source": [
        "output"
      ],
      "metadata": {
        "colab": {
          "base_uri": "https://localhost:8080/"
        },
        "id": "7gx9gBF1Q43t",
        "outputId": "136b6dd1-538c-46b4-a8ee-5e2df4738473"
      },
      "execution_count": 11,
      "outputs": [
        {
          "output_type": "execute_result",
          "data": {
            "text/plain": [
              "AIMessage(content='The Border-Gavaskar Trophy is a Test cricket series played between India and Australia. It is named after two of the greatest cricketers from these countries, Sunil Gavaskar of India and Allan Border of Australia. The trophy was introduced in 1996-97, and since then, the two teams have been competing for it every time they meet in a Test series.\\n\\nThe trophy is a symbol of the fierce rivalry between India and Australia, two of the strongest teams in the world of cricket. The series is usually played over four or five matches, and the team that wins the most matches or has the highest number of points at the end of the series is declared the winner of the Border-Gavaskar Trophy.\\n\\nThe first Border-Gavaskar Trophy was won by Australia, and since then, the trophy has been won by both teams several times. Some of the most memorable matches in the history of cricket have been played in this series, including the 2001 Test match at Eden Gardens in Kolkata, where India came back from an improbable position to win the match and the series.\\n\\nThe Border-Gavaskar Trophy is one of the most prestigious trophies in the world of cricket, and winning it is a matter of great pride for both India and Australia. The series is eagerly awaited by cricket fans all over the world, and the matches are always played in a highly competitive spirit.', additional_kwargs={}, response_metadata={'token_usage': {'completion_tokens': 325, 'prompt_tokens': 19, 'total_tokens': 344, 'completion_time': 0.521463131, 'prompt_time': 0.002290924, 'queue_time': 0.028670863, 'total_time': 0.523754055}, 'model_name': 'mixtral-8x7b-32768', 'system_fingerprint': 'fp_c5f20b5bb1', 'finish_reason': 'stop', 'logprobs': None}, id='run-1170d35b-98b0-40e5-b52f-e5ab68ce0f6f-0', usage_metadata={'input_tokens': 19, 'output_tokens': 325, 'total_tokens': 344})"
            ]
          },
          "metadata": {},
          "execution_count": 11
        }
      ]
    },
    {
      "cell_type": "code",
      "source": [
        "print(output.content)"
      ],
      "metadata": {
        "colab": {
          "base_uri": "https://localhost:8080/"
        },
        "id": "V-IUYoTVQqGF",
        "outputId": "f9b394b9-92e7-44b9-dd11-2c9f9d3db98e"
      },
      "execution_count": 12,
      "outputs": [
        {
          "output_type": "stream",
          "name": "stdout",
          "text": [
            "The Border-Gavaskar Trophy is a Test cricket series played between India and Australia. It is named after two of the greatest cricketers from these countries, Sunil Gavaskar of India and Allan Border of Australia. The trophy was introduced in 1996-97, and since then, the two teams have been competing for it every time they meet in a Test series.\n",
            "\n",
            "The trophy is a symbol of the fierce rivalry between India and Australia, two of the strongest teams in the world of cricket. The series is usually played over four or five matches, and the team that wins the most matches or has the highest number of points at the end of the series is declared the winner of the Border-Gavaskar Trophy.\n",
            "\n",
            "The first Border-Gavaskar Trophy was won by Australia, and since then, the trophy has been won by both teams several times. Some of the most memorable matches in the history of cricket have been played in this series, including the 2001 Test match at Eden Gardens in Kolkata, where India came back from an improbable position to win the match and the series.\n",
            "\n",
            "The Border-Gavaskar Trophy is one of the most prestigious trophies in the world of cricket, and winning it is a matter of great pride for both India and Australia. The series is eagerly awaited by cricket fans all over the world, and the matches are always played in a highly competitive spirit.\n"
          ]
        }
      ]
    },
    {
      "cell_type": "markdown",
      "source": [
        "A prompt is the input text or instruction given to the LLM to generate an output.\n",
        "\n",
        "Think of it as the question, command, or request you provide to guide the LLM's behavior. The quality and specificity of the prompt significantly impacts the quality of the LLM's response."
      ],
      "metadata": {
        "id": "oX-se8tSWVNV"
      }
    },
    {
      "cell_type": "code",
      "source": [
        "from langchain_core.output_parsers import StrOutputParser\n",
        "from langchain_core.prompts import ChatPromptTemplate\n",
        "\n",
        "prompt = ChatPromptTemplate.from_template(\"You are a native hindi speaker and answer and write only in hinglish to the {user} queries. Dont mention anything in english. The calligraphy should also be in strictly hindi.\")\n",
        "\n",
        "chain = prompt | llm | StrOutputParser()"
      ],
      "metadata": {
        "id": "BiBdWk9ORV-p"
      },
      "execution_count": 13,
      "outputs": []
    },
    {
      "cell_type": "code",
      "source": [
        "chain.invoke({'user':\"gice very short description of COEP \"})"
      ],
      "metadata": {
        "colab": {
          "base_uri": "https://localhost:8080/",
          "height": 122
        },
        "id": "fqUyAGyHSzVo",
        "outputId": "5dcdf6b4-c101-4d06-eba1-9c48a83496be"
      },
      "execution_count": 15,
      "outputs": [
        {
          "output_type": "execute_result",
          "data": {
            "text/plain": [
              "'सुबह सोभा को एक प्र very reputed  engineering कॉलेज है, जो पुणे में स्थित है और चार वर्ष का दuration का  undergraduate  engineering courses अर्थात् B.Tech डिग्री प्रदान करता है। इसका नाम COEP है, जो पूरे महाराष्ट्र में स्थित हुए engineering colleges में से एक है जो सबसे प्रख्यात है। COEP की प्रवेश परीक्षा में कॉम्पेटिटिव होना अहम है, क्योंकि सभी वैज्ञानिक शाखाओं में स्थान आमकिन है।\\n\\nCOEP महाविद्यालय की पेशेवरी की परीक्षा JEE Mains के आधार पर होती है, जिसमें सभी प्रतिभावान छात्र हों वह ही शामिल हो सकते हैं। इसके अलावा, COEP महाविद्यालय ने निम्नलिखित शाखाओं में se अधिक शिक्षा प्रदान करता है:\\n\\n* प्राथमिक विज्ञान (प्रवेश परीक्षा के लिए JEE Main आवश्यक)\\n* कंप्यूटर विज्ञान और इंजीनियरिंग (प्रवेश परीक्षा के लिए JEE Main आवश्यक)\\n* इलेक्ट्रिकल इंजीनियरिंग (प्रवेश परीक्षा के लिए JEE Main आवश्यक)\\n* मेकानिकल इंजीनियरिंग (प्रवेश परीक्षा के लिए JEE Main आवश्यक)\\n* स्वच्छाता तकनीक (प्रवेश परीक्षा के लिए JEE Main नहीं आवश्यक)\\n\\nCOEP महाविद्यालय द्वारा प्रदान शिक्षा का कुल मूल्य सालाना 2-3 लाख रुपये के आसपास होता है, जो पूरे महाराष्ट्र में स्थित हुए engineering colleges में से सबसे अधिक है। इसके अलावा, COEP महाविद्यालय ने अपने छात्रों के लिए निम्नलिखित फसलों में se hostel भी प्रदान किया है:\\n\\n* गर्भ स्थान (प्राथमिक वर्ष)\\n* बाहरी स्थान (दूसरे वर्ष से आगे)\\n\\nCOEP महाविद्यालय में सभी शाखाओं में स्थान प्राप्त करने के लिए कॉम्पेटिटिव होना अहम है, क्योंकि सभी वैज्ञानिक शाखाओं में स्थान आमकिन है। इसलिए, अगर आप एक प्रतिभावान छात्र हैं और engineering के किसी क्षेत्र में कारrière बनाना चाहते हैं, तो COEP महाविद्यालय में शिक्षा प्राप्त करने का एक अच्छा विकल्प है।'"
            ],
            "application/vnd.google.colaboratory.intrinsic+json": {
              "type": "string"
            }
          },
          "metadata": {},
          "execution_count": 15
        }
      ]
    },
    {
      "cell_type": "code",
      "source": [],
      "metadata": {
        "id": "zyoe2_-ZEvdS"
      },
      "execution_count": null,
      "outputs": []
    }
  ]
}